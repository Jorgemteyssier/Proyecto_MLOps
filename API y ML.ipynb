{
 "cells": [
  {
   "cell_type": "code",
   "execution_count": 24,
   "metadata": {},
   "outputs": [],
   "source": [
    "from fastapi import FastAPI\n",
    "import pandas as pd\n",
    "from sklearn.feature_extraction.text import TfidfVectorizer\n",
    "from sklearn.metrics.pairwise import cosine_similarity"
   ]
  },
  {
   "cell_type": "markdown",
   "metadata": {},
   "source": [
    "API"
   ]
  },
  {
   "cell_type": "code",
   "execution_count": 25,
   "metadata": {},
   "outputs": [],
   "source": [
    "#app = FastAPI()\n"
   ]
  },
  {
   "cell_type": "code",
   "execution_count": 26,
   "metadata": {},
   "outputs": [],
   "source": [
    "#Cargo el Dataset y lo convierto en un df\n",
    "df_api=pd.read_parquet(r'C:\\Users\\Jorge\\OneDrive\\Escritorio\\Proyecto 1\\Data_Api.parquet')"
   ]
  },
  {
   "cell_type": "code",
   "execution_count": 27,
   "metadata": {},
   "outputs": [
    {
     "data": {
      "text/html": [
       "<div>\n",
       "<style scoped>\n",
       "    .dataframe tbody tr th:only-of-type {\n",
       "        vertical-align: middle;\n",
       "    }\n",
       "\n",
       "    .dataframe tbody tr th {\n",
       "        vertical-align: top;\n",
       "    }\n",
       "\n",
       "    .dataframe thead th {\n",
       "        text-align: right;\n",
       "    }\n",
       "</style>\n",
       "<table border=\"1\" class=\"dataframe\">\n",
       "  <thead>\n",
       "    <tr style=\"text-align: right;\">\n",
       "      <th></th>\n",
       "      <th>id</th>\n",
       "      <th>title</th>\n",
       "      <th>release_date</th>\n",
       "      <th>release_year</th>\n",
       "      <th>cast_members</th>\n",
       "      <th>director</th>\n",
       "      <th>vote_average</th>\n",
       "      <th>vote_count</th>\n",
       "      <th>budget</th>\n",
       "      <th>revenue</th>\n",
       "      <th>return</th>\n",
       "      <th>popularity</th>\n",
       "    </tr>\n",
       "  </thead>\n",
       "  <tbody>\n",
       "    <tr>\n",
       "      <th>0</th>\n",
       "      <td>862</td>\n",
       "      <td>Toy Story</td>\n",
       "      <td>1995-10-30</td>\n",
       "      <td>1995</td>\n",
       "      <td>[Tom Hanks, Tim Allen, Don Rickles, Jim Varney...</td>\n",
       "      <td>John Lasseter</td>\n",
       "      <td>7.7</td>\n",
       "      <td>5415.0</td>\n",
       "      <td>30000000</td>\n",
       "      <td>373554033.0</td>\n",
       "      <td>12.451801</td>\n",
       "      <td>21.946943</td>\n",
       "    </tr>\n",
       "    <tr>\n",
       "      <th>1</th>\n",
       "      <td>8844</td>\n",
       "      <td>Jumanji</td>\n",
       "      <td>1995-12-15</td>\n",
       "      <td>1995</td>\n",
       "      <td>[Robin Williams, Jonathan Hyde, Kirsten Dunst,...</td>\n",
       "      <td>Joe Johnston</td>\n",
       "      <td>6.9</td>\n",
       "      <td>2413.0</td>\n",
       "      <td>65000000</td>\n",
       "      <td>262797249.0</td>\n",
       "      <td>4.043035</td>\n",
       "      <td>17.015539</td>\n",
       "    </tr>\n",
       "    <tr>\n",
       "      <th>2</th>\n",
       "      <td>15602</td>\n",
       "      <td>Grumpier Old Men</td>\n",
       "      <td>1995-12-22</td>\n",
       "      <td>1995</td>\n",
       "      <td>[Walter Matthau, Jack Lemmon, Ann-Margret, Sop...</td>\n",
       "      <td>Howard Deutch</td>\n",
       "      <td>6.5</td>\n",
       "      <td>92.0</td>\n",
       "      <td>0</td>\n",
       "      <td>0.0</td>\n",
       "      <td>0.000000</td>\n",
       "      <td>11.712900</td>\n",
       "    </tr>\n",
       "    <tr>\n",
       "      <th>3</th>\n",
       "      <td>31357</td>\n",
       "      <td>Waiting to Exhale</td>\n",
       "      <td>1995-12-22</td>\n",
       "      <td>1995</td>\n",
       "      <td>[Whitney Houston, Angela Bassett, Loretta Devi...</td>\n",
       "      <td>Forest Whitaker</td>\n",
       "      <td>6.1</td>\n",
       "      <td>34.0</td>\n",
       "      <td>16000000</td>\n",
       "      <td>81452156.0</td>\n",
       "      <td>5.090760</td>\n",
       "      <td>3.859495</td>\n",
       "    </tr>\n",
       "    <tr>\n",
       "      <th>4</th>\n",
       "      <td>11862</td>\n",
       "      <td>Father of the Bride Part II</td>\n",
       "      <td>1995-02-10</td>\n",
       "      <td>1995</td>\n",
       "      <td>[Steve Martin, Diane Keaton, Martin Short, Kim...</td>\n",
       "      <td>Charles Shyer</td>\n",
       "      <td>5.7</td>\n",
       "      <td>173.0</td>\n",
       "      <td>0</td>\n",
       "      <td>76578911.0</td>\n",
       "      <td>0.000000</td>\n",
       "      <td>8.387519</td>\n",
       "    </tr>\n",
       "  </tbody>\n",
       "</table>\n",
       "</div>"
      ],
      "text/plain": [
       "      id                        title release_date  release_year  \\\n",
       "0    862                    Toy Story   1995-10-30          1995   \n",
       "1   8844                      Jumanji   1995-12-15          1995   \n",
       "2  15602             Grumpier Old Men   1995-12-22          1995   \n",
       "3  31357            Waiting to Exhale   1995-12-22          1995   \n",
       "4  11862  Father of the Bride Part II   1995-02-10          1995   \n",
       "\n",
       "                                        cast_members         director  \\\n",
       "0  [Tom Hanks, Tim Allen, Don Rickles, Jim Varney...    John Lasseter   \n",
       "1  [Robin Williams, Jonathan Hyde, Kirsten Dunst,...     Joe Johnston   \n",
       "2  [Walter Matthau, Jack Lemmon, Ann-Margret, Sop...    Howard Deutch   \n",
       "3  [Whitney Houston, Angela Bassett, Loretta Devi...  Forest Whitaker   \n",
       "4  [Steve Martin, Diane Keaton, Martin Short, Kim...    Charles Shyer   \n",
       "\n",
       "   vote_average  vote_count    budget      revenue     return  popularity  \n",
       "0           7.7      5415.0  30000000  373554033.0  12.451801   21.946943  \n",
       "1           6.9      2413.0  65000000  262797249.0   4.043035   17.015539  \n",
       "2           6.5        92.0         0          0.0   0.000000   11.712900  \n",
       "3           6.1        34.0  16000000   81452156.0   5.090760    3.859495  \n",
       "4           5.7       173.0         0   76578911.0   0.000000    8.387519  "
      ]
     },
     "execution_count": 27,
     "metadata": {},
     "output_type": "execute_result"
    }
   ],
   "source": [
    "df_api.head()"
   ]
  },
  {
   "cell_type": "code",
   "execution_count": 28,
   "metadata": {},
   "outputs": [],
   "source": [
    "#1. cantidad_filmaciones_mes( Mes ): Se ingresa un mes en idioma Español. Debe devolver la cantidad de películas que fueron estrenadas en el mes consultado en la totalidad del dataset.\n",
    "#Ejemplo de retorno: X cantidad de películas fueron estrenadas en el mes de X\n",
    "\n",
    "#@app.get('/cantidad_filmaciones_mes/{mes}')\n",
    "def cantidad_filmaciones_mes(mes: str):\n",
    "    \n",
    "    #Creo un diccionario con los meses y el número que le corresponde\n",
    "    meses_numero = {\"enero\": 1, \"febrero\": 2, \"marzo\": 3, \"abril\": 4, \"mayo\": 5, \"junio\": 6,\"julio\": 7, \"agosto\": 8, \"septiembre\": 9, \"octubre\": 10, \"noviembre\": 11, \"diciembre\": 12 }\n",
    "    \n",
    "    #Paso a minusculas para evitar discrepancias tipo Junio != junio\n",
    "    mes=mes.lower()\n",
    "    #Validacion de entrada\n",
    "    if mes not in meses_numero:\n",
    "        return f'Error: Mes invalido. Intentalo de nuevo con un mes en español. Checa la ortografía'\n",
    "    #Cambio el mes a numero \n",
    "    mes_num=meses_numero[mes]\n",
    "    \n",
    "    #Filtrado y conteo del mes en el df\n",
    "    total=df_api[df_api['release_date'].dt.month==mes_num].shape[0]\n",
    "    return f'{total} películas fueron estrenadas en el mes de {mes}'\n",
    "\n",
    "    \n",
    "\n"
   ]
  },
  {
   "cell_type": "code",
   "execution_count": 29,
   "metadata": {},
   "outputs": [
    {
     "data": {
      "text/plain": [
       "'3098 películas fueron estrenadas en el mes de junio'"
      ]
     },
     "execution_count": 29,
     "metadata": {},
     "output_type": "execute_result"
    }
   ],
   "source": [
    "cantidad_filmaciones_mes('JUnio')"
   ]
  },
  {
   "cell_type": "code",
   "execution_count": 30,
   "metadata": {},
   "outputs": [],
   "source": [
    "#2.def cantidad_filmaciones_dia( Dia ): Se ingresa un día en idioma Español. Debe devolver la cantidad de películas que fueron estrenadas en día consultado en la totalidad del dataset.\n",
    "#Ejemplo de retorno: X cantidad de películas fueron estrenadas en los días X\n",
    "\n",
    "#@app.get('/cantidad_filmaciones_dia/{dia}')\n",
    "\n",
    "def cantidad_filmaciones_dia(dia: str):\n",
    "\n",
    "    #Creo diccionario con los dias y sus números\n",
    "    dia_numero={\"lunes\": 0, \"martes\": 1, \"miércoles\": 2, \"jueves\": 3, \"viernes\": 4, \"sábado\": 5, \"domingo\": 6}\n",
    "\n",
    "    #Paso a minusculas\n",
    "    dia=dia.lower()\n",
    "    #Validación de entrada\n",
    "    if dia not in dia_numero:\n",
    "        return f'Error: Día invalido. Intentalo de nuevo con un día en español. Checa la ortografía'\n",
    "    #Cambio a numero\n",
    "    dia_num=dia_numero[dia]\n",
    "\n",
    "    #Filtrado y conteo \n",
    "    total=df_api[df_api['release_date'].dt.dayofweek==dia_num].shape[0]\n",
    "    return f'{total} películas fueron estrenadas en el día {dia}'\n"
   ]
  },
  {
   "cell_type": "code",
   "execution_count": 31,
   "metadata": {},
   "outputs": [
    {
     "data": {
      "text/plain": [
       "'3415 películas fueron estrenadas en el día lunes'"
      ]
     },
     "execution_count": 31,
     "metadata": {},
     "output_type": "execute_result"
    }
   ],
   "source": [
    "cantidad_filmaciones_dia('lunes')"
   ]
  },
  {
   "cell_type": "code",
   "execution_count": 32,
   "metadata": {},
   "outputs": [],
   "source": [
    "#3.def score_titulo( titulo_de_la_filmación ): Se ingresa el título de una filmación esperando como respuesta el título, el año de estreno y el score.\n",
    "#Ejemplo de retorno: La película X fue estrenada en el año X con un score/popularidad de X\n",
    "\n",
    "#@app.get('/score_titulo/{titulo}')\n",
    "def score_titulo(titulo: str):\n",
    "\n",
    "    #Para evitar errores de ortografia lo estandarizamos\n",
    "    titulo = titulo.lower()\n",
    "\n",
    "    #Buscamos el titulo en el df y tambien lo pasamos a minusculas\n",
    "    movie=df_api[df_api['title'].str.lower()==titulo]\n",
    "\n",
    "\n",
    "    #Validacion\n",
    "    if movie.empty:\n",
    "        raise HTTPException(status_code=404, detail=\"Título no encontrado\")\n",
    "    \n",
    "    #Obtengo los datos\n",
    "    movie=movie.iloc[0]\n",
    "    nombre=movie['title']\n",
    "    año=movie['release_year']\n",
    "    score=movie['popularity']\n",
    "\n",
    "    return f'La película {nombre} fue estrenada en el año {año} con un score/popularidad de {score}'\n"
   ]
  },
  {
   "cell_type": "code",
   "execution_count": 33,
   "metadata": {},
   "outputs": [
    {
     "data": {
      "text/plain": [
       "'La película Father of the Bride Part II fue estrenada en el año 1995 con un score/popularidad de 8.387519'"
      ]
     },
     "execution_count": 33,
     "metadata": {},
     "output_type": "execute_result"
    }
   ],
   "source": [
    "score_titulo('Father of the Bride Part II')"
   ]
  },
  {
   "cell_type": "code",
   "execution_count": 34,
   "metadata": {},
   "outputs": [],
   "source": [
    "#4. def votos_titulo( titulo_de_la_filmación ): Se ingresa el título de una filmación esperando como respuesta el título, la cantidad de votos y el valor promedio de las votaciones. La misma variable deberá de contar con al menos 2000 valoraciones, caso contrario, debemos contar con un mensaje avisando que no cumple esta condición y que por ende, no se devuelve ningun valor.\n",
    "#Ejemplo de retorno: La película X fue estrenada en el año X. La misma cuenta con un total de X valoraciones, con un promedio de X\n",
    "\n",
    "#@app.get(\"/votos_titulo/{titulo}\")\n",
    "def votos_titulo(titulo: str):\n",
    "\n",
    "    #Para evitar errores de ortografia lo estandarizamos\n",
    "    titulo = titulo.lower()\n",
    "    \n",
    "    #Buscamos el titulo en el df y tambien lo pasamos a minusculas\n",
    "    movie = df_api[df_api['title'].str.lower() == titulo.lower()]\n",
    "\n",
    "    #Validacion\n",
    "    if movie.empty:\n",
    "        raise HTTPException(status_code=404, detail=\"Título no encontrado\")\n",
    "    \n",
    "    #Obtengo los datos\n",
    "    movie=movie.iloc[0]\n",
    "    nombre=movie['title']\n",
    "    año=movie['release_year']\n",
    "    votos=movie['vote_count']\n",
    "    promedio=movie['vote_average']\n",
    "\n",
    "    return f'La película {nombre} fue estrenada en el año {año}. La misma cuenta con un total de {votos} valoraciones, con un promedio de {promedio}'\n",
    "    \n",
    "\n"
   ]
  },
  {
   "cell_type": "code",
   "execution_count": 35,
   "metadata": {},
   "outputs": [
    {
     "data": {
      "text/plain": [
       "'La película Father of the Bride Part II fue estrenada en el año 1995. La misma cuenta con un total de 173.0 valoraciones, con un promedio de 5.7'"
      ]
     },
     "execution_count": 35,
     "metadata": {},
     "output_type": "execute_result"
    }
   ],
   "source": [
    "votos_titulo('Father of the Bride Part II')"
   ]
  },
  {
   "cell_type": "code",
   "execution_count": 36,
   "metadata": {},
   "outputs": [],
   "source": [
    "#5. def get_actor( nombre_actor ): Se ingresa el nombre de un actor que se encuentre dentro de un dataset debiendo devolver el éxito del mismo medido a través del retorno. Además, la cantidad de películas que en las que ha participado y el promedio de retorno. La definición no deberá considerar directores.\n",
    "#Ejemplo de retorno: El actor X ha participado de X cantidad de filmaciones, el mismo ha conseguido un retorno de X con un promedio de X por filmación\n",
    "\n",
    "#@app.get(\"/get_actor/{nombre_actor}\")\n",
    "def get_actor(nombre_actor: str):\n",
    "\n",
    "    #Para evitar errores de ortografia lo estandarizamos\n",
    "    nombre_actor=nombre_actor.lower()\n",
    "\n",
    "    #Busco las peliculas en las que aparece como actor y lo estandarizamos\n",
    "    movies=df_api[df_api['cast_members'].apply(lambda x:nombre_actor in [y.lower() for y in x])]\n",
    "\n",
    "    #Validacion\n",
    "    if movies.empty:\n",
    "        raise HTTPException(status_code=404, detail='Actor no encontrado')\n",
    "\n",
    "    #Obtengo los datos \n",
    "    cantidad_filmaciones=movies.shape[0]\n",
    "    retorno=round(movies['return'].sum(),2)\n",
    "    retorno_promedio=round((retorno/cantidad_filmaciones),2)\n",
    "\n",
    "    return f'El actor {nombre_actor} ha participado en {cantidad_filmaciones} películas, el mismo ha conseguido un retorno de {retorno} con un promedio de {retorno_promedio} por filmación'\n",
    "\n",
    "\n",
    "\n",
    "    \n",
    "\n",
    "\n",
    "\n",
    "    "
   ]
  },
  {
   "cell_type": "code",
   "execution_count": 37,
   "metadata": {},
   "outputs": [
    {
     "data": {
      "text/plain": [
       "'El actor tom hanks ha participado en 70 películas, el mismo ha conseguido un retorno de 178.85 con un promedio de 2.55 por filmación'"
      ]
     },
     "execution_count": 37,
     "metadata": {},
     "output_type": "execute_result"
    }
   ],
   "source": [
    "get_actor('Tom Hanks')"
   ]
  },
  {
   "cell_type": "code",
   "execution_count": 38,
   "metadata": {},
   "outputs": [],
   "source": [
    "#6.def get_director( nombre_director ): Se ingresa el nombre de un director que se encuentre dentro de un dataset debiendo devolver el éxito del mismo medido a través del retorno.\n",
    "# Además, deberá devolver el nombre de cada película con la fecha de lanzamiento, retorno individual, costo y ganancia de la misma.\n",
    "\n",
    "\n",
    "#@app.get(\"/get_director/{nombre_director}\")\n",
    "def get_director(nombre_director: str):\n",
    "    df = load_data()\n",
    "    films = df[df['director'].str.contains(nombre_director, case=False, na=False)]\n",
    "    if films.empty:\n",
    "        return {\"error\": \"Director no encontrado\"}\n",
    "    film_details = films[['title', 'release_date', 'return', 'budget', 'revenue']].to_dict(orient='records')\n",
    "    return {\n",
    "        \"director\": nombre_director,\n",
    "        \"peliculas\": film_details}"
   ]
  },
  {
   "cell_type": "code",
   "execution_count": 39,
   "metadata": {},
   "outputs": [],
   "source": [
    "def get_director(nombre_director: str):\n",
    "\n",
    "    #Para evitar errores de ortografia lo estandarizamos\n",
    "    nombre_director=nombre_director.lower()\n",
    "\n",
    "\n",
    "    #Buscamos las peliculas que ha dirigido y lo estandarizamos\n",
    "    movies=df_api[df_api['director'].str.lower()==nombre_director]\n",
    "\n",
    "    #Validacion\n",
    "    if movies.empty:\n",
    "        raise HTTPException(status_code=404, detail='Director no encontrado')\n",
    "    \n",
    "    #Obtengo los datos \n",
    "    retorno=round(movies['return'].sum(),2)\n",
    "    peliculas_dirigidas=movies[['title', 'release_date', 'return', 'budget', 'revenue']].to_dict(orient='records')\n",
    "    cantidad_filmaciones=movies.shape[0]\n",
    "\n",
    "    return {'Director':nombre_director,\n",
    "            'Cantidad de Películas':cantidad_filmaciones,\n",
    "            'Retorno total': retorno,\n",
    "            'Películas':peliculas_dirigidas}\n",
    "\n",
    "    "
   ]
  },
  {
   "cell_type": "code",
   "execution_count": 40,
   "metadata": {},
   "outputs": [
    {
     "data": {
      "text/plain": [
       "{'Director': 'john lasseter',\n",
       " 'Cantidad de Películas': 10,\n",
       " 'Retorno total': 27.65,\n",
       " 'Películas': [{'title': 'Toy Story',\n",
       "   'release_date': Timestamp('1995-10-30 00:00:00'),\n",
       "   'return': 12.4518011,\n",
       "   'budget': 30000000,\n",
       "   'revenue': 373554033.0},\n",
       "  {'title': \"A Bug's Life\",\n",
       "   'release_date': Timestamp('1998-11-25 00:00:00'),\n",
       "   'return': 3.0271571583333334,\n",
       "   'budget': 120000000,\n",
       "   'revenue': 363258859.0},\n",
       "  {'title': 'Toy Story 2',\n",
       "   'release_date': Timestamp('1999-10-30 00:00:00'),\n",
       "   'return': 5.526298544444445,\n",
       "   'budget': 90000000,\n",
       "   'revenue': 497366869.0},\n",
       "  {'title': 'Luxo Jr.',\n",
       "   'release_date': Timestamp('1986-08-17 00:00:00'),\n",
       "   'return': 0.0,\n",
       "   'budget': 0,\n",
       "   'revenue': 0.0},\n",
       "  {'title': 'Cars',\n",
       "   'release_date': Timestamp('2006-06-08 00:00:00'),\n",
       "   'return': 3.849859575,\n",
       "   'budget': 120000000,\n",
       "   'revenue': 461983149.0},\n",
       "  {'title': 'Cars 2',\n",
       "   'release_date': Timestamp('2011-06-11 00:00:00'),\n",
       "   'return': 2.79926198,\n",
       "   'budget': 200000000,\n",
       "   'revenue': 559852396.0},\n",
       "  {'title': 'Tin Toy',\n",
       "   'release_date': Timestamp('1988-08-01 00:00:00'),\n",
       "   'return': 0.0,\n",
       "   'budget': 0,\n",
       "   'revenue': 0.0},\n",
       "  {'title': \"Red's Dream\",\n",
       "   'release_date': Timestamp('1987-08-17 00:00:00'),\n",
       "   'return': 0.0,\n",
       "   'budget': 0,\n",
       "   'revenue': 0.0},\n",
       "  {'title': 'Knick Knack',\n",
       "   'release_date': Timestamp('1989-01-01 00:00:00'),\n",
       "   'return': 0.0,\n",
       "   'budget': 0,\n",
       "   'revenue': 0.0},\n",
       "  {'title': 'Mater and the Ghostlight',\n",
       "   'release_date': Timestamp('2006-07-27 00:00:00'),\n",
       "   'return': 0.0,\n",
       "   'budget': 0,\n",
       "   'revenue': 0.0}]}"
      ]
     },
     "execution_count": 40,
     "metadata": {},
     "output_type": "execute_result"
    }
   ],
   "source": [
    "get_director('John Lasseter')"
   ]
  },
  {
   "cell_type": "markdown",
   "metadata": {},
   "source": [
    "Modelo\n",
    "\n",
    "def recomendacion( titulo ): Se ingresa el nombre de una película y te recomienda las similares en una lista de 5 valores."
   ]
  },
  {
   "cell_type": "code",
   "execution_count": 41,
   "metadata": {},
   "outputs": [],
   "source": [
    "df_modelo=pd.read_parquet(r'C:\\Users\\Jorge\\OneDrive\\Escritorio\\Proyecto 1\\Data_Modelo')"
   ]
  },
  {
   "cell_type": "code",
   "execution_count": 63,
   "metadata": {},
   "outputs": [],
   "source": [
    "# Crear una instancia de TfidfVectorizer con las stopwords en inglés\n",
    "tfidf = TfidfVectorizer(stop_words='english')\n",
    "# Crear la matriz tf-idf con los features de las películas\n",
    "tfidf_matrix = tfidf.fit_transform(df_modelo['genres'] + ' ' + df_modelo['overview'] + ' ' + df_modelo['cast_members'] + ' ' + df_modelo['director'])"
   ]
  },
  {
   "cell_type": "code",
   "execution_count": 69,
   "metadata": {},
   "outputs": [],
   "source": [
    "#@app.get(\"/recomendacion/{title}\")\n",
    "def recomendacion(title: str):\n",
    "    \n",
    "    #Validacion de inicio\n",
    "    if title not in df_modelo[\"title\"].values:\n",
    "           return {\"Error\": \"Título no encontrado\"}\n",
    "    \n",
    "    idx = df_modelo[df_modelo['title'] == title].index[0]\n",
    "    #Calculo de la similitud del coseno\n",
    "    cosine_sim = cosine_similarity(tfidf_matrix[idx:idx+1], tfidf_matrix).flatten()\n",
    "    #Recopilacion de los scores de similitud en una lista de tuplas, donde el primer elemento es el índice y el segundo es el score.\n",
    "    sim_scores = list(enumerate(cosine_sim))\n",
    "    #Ordenar la lista de mayor a menor.\n",
    "    sim_scores = sorted(sim_scores, key=lambda x: x[1], reverse=True)\n",
    "    # Obtener los 5 ítems más similares\n",
    "    sim_scores = sim_scores[:6]\n",
    "\n",
    "     #Excluir la primera película si es la misma que se ingresó\n",
    "    if sim_scores[0][0] == idx:\n",
    "        sim_scores = sim_scores[1:6]\n",
    "    else:\n",
    "        sim_scores = sim_scores[:5]\n",
    "    # Obtener los títulos de los ítems recomendados y convertirlos en lista\n",
    "    recommended_movies = df_modelo['title'].iloc[[i[0] for i in sim_scores]].tolist()\n",
    "\n",
    "    result = {\"Películas recomendadas\": recommended_movies}\n",
    "\n",
    "    # Devolver las películas recomendadas\n",
    "    return result"
   ]
  },
  {
   "cell_type": "code",
   "execution_count": 70,
   "metadata": {},
   "outputs": [
    {
     "data": {
      "text/plain": [
       "{'Películas recomendadas': ['Wreck-It Ralph',\n",
       "  'Rhinoceros',\n",
       "  'Turkey Shoot',\n",
       "  'Word Wars',\n",
       "  'Quiz']}"
      ]
     },
     "execution_count": 70,
     "metadata": {},
     "output_type": "execute_result"
    }
   ],
   "source": [
    "recomendacion('Jumanji')"
   ]
  }
 ],
 "metadata": {
  "kernelspec": {
   "display_name": "Python 3",
   "language": "python",
   "name": "python3"
  },
  "language_info": {
   "codemirror_mode": {
    "name": "ipython",
    "version": 3
   },
   "file_extension": ".py",
   "mimetype": "text/x-python",
   "name": "python",
   "nbconvert_exporter": "python",
   "pygments_lexer": "ipython3",
   "version": "3.10.5"
  }
 },
 "nbformat": 4,
 "nbformat_minor": 2
}
